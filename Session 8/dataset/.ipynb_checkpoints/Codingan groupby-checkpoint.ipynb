{
 "cells": [
  {
   "cell_type": "code",
   "execution_count": null,
   "id": "237ed220",
   "metadata": {},
   "outputs": [],
   "source": [
    "df_total = df_crime.groupby('Crime_type', axis=0).sum()\n",
    "print (type(df_crime.groupby('Crime_type', axis=0)))\n",
    "df_total.head()"
   ]
  },
  {
   "cell_type": "code",
   "execution_count": null,
   "id": "35c7a277",
   "metadata": {},
   "outputs": [],
   "source": [
    "df_crime.sort_values(by='Total', ascending= True, inplace =True)\n",
    "df_bar = df_crime['Total'].tail\n",
    "df_bar"
   ]
  },
  {
   "cell_type": "code",
   "execution_count": null,
   "id": "31dbf988",
   "metadata": {},
   "outputs": [],
   "source": [
    "### type your answer here\n",
    "df_bar.plot(kind='barh', figsize=(12, 12), color='steelblue')\n",
    "plt.xlabel('Number of Immigrants')\n",
    "plt.title('Top 15 Conuntries Contributing to the Immigration to Canada between 1980 - 2013')\n",
    "# for index, value in enumerate(df_top15):\n",
    "# label = format(int(value), ',') # format int with commas\n",
    "# # place text at the end of bar (subtracting 47000 from x, and 0.1 from y to make it fit within the bar)\n",
    "# plt.annotate(label, xy=(value - 47000, index - 0.10), color='white')\n",
    "plt.show()"
   ]
  },
  {
   "cell_type": "code",
   "execution_count": null,
   "id": "0aecca09",
   "metadata": {},
   "outputs": [],
   "source": []
  },
  {
   "cell_type": "markdown",
   "id": "659ea31c",
   "metadata": {},
   "source": [
    "----kodingan by grouping-----"
   ]
  },
  {
   "cell_type": "code",
   "execution_count": null,
   "id": "2bfd8521",
   "metadata": {},
   "outputs": [],
   "source": [
    "df_GROUPBY_CRIME_CATEGORY = df_crime.groupby([\"Crime_type\", \"Last_outcome_category\"])\n",
    "df_GROUPBY_CRIME_CATEGORY"
   ]
  },
  {
   "cell_type": "code",
   "execution_count": null,
   "id": "72bb0b2e",
   "metadata": {},
   "outputs": [],
   "source": [
    "df_GROUPBY_CRIME_CATEGORY[\"Crime_type\"].count()"
   ]
  },
  {
   "cell_type": "code",
   "execution_count": null,
   "id": "2783990d",
   "metadata": {},
   "outputs": [],
   "source": [
    "df_GROUPBY_CRIME_CATEGORY[\"Crime_type\"].count() \\\n",
    "                                        .reset_index(name='count') \\\n",
    "                                        .sort_values(['count'], \\\n",
    "                                                    ascending=False)"
   ]
  },
  {
   "cell_type": "code",
   "execution_count": null,
   "id": "cf67d82c",
   "metadata": {},
   "outputs": [],
   "source": [
    "df_crime_GROUPBY_CRIME_TYPE = df_crime.groupby(\"Crime_type\")\n",
    "df_crime_GROUPBY_CRIME_TYPE[\"Crime_type\"].count()"
   ]
  },
  {
   "cell_type": "code",
   "execution_count": null,
   "id": "2728c11e",
   "metadata": {},
   "outputs": [],
   "source": []
  },
  {
   "cell_type": "code",
   "execution_count": null,
   "id": "91ea317d",
   "metadata": {},
   "outputs": [],
   "source": []
  }
 ],
 "metadata": {
  "kernelspec": {
   "display_name": "Python 3",
   "language": "python",
   "name": "python3"
  },
  "language_info": {
   "codemirror_mode": {
    "name": "ipython",
    "version": 3
   },
   "file_extension": ".py",
   "mimetype": "text/x-python",
   "name": "python",
   "nbconvert_exporter": "python",
   "pygments_lexer": "ipython3",
   "version": "3.8.8"
  }
 },
 "nbformat": 4,
 "nbformat_minor": 5
}
